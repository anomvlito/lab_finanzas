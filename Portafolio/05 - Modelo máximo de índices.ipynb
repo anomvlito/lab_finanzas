{
 "cells": [
  {
   "cell_type": "markdown",
   "id": "17cfe4d3",
   "metadata": {},
   "source": [
    "## Extensión"
   ]
  },
  {
   "cell_type": "code",
   "execution_count": 1,
   "id": "388b8e2e",
   "metadata": {},
   "outputs": [],
   "source": [
    "import gurobipy as gp\n",
    "import pandas as pd\n",
    "import numpy as np\n",
    "\n",
    "import matplotlib.pyplot as plt\n",
    "import seaborn as sns\n",
    "\n",
    "sns.set_theme()"
   ]
  },
  {
   "cell_type": "markdown",
   "id": "589f29c8",
   "metadata": {},
   "source": [
    "## Datos de Entrada\n",
    "\n",
    "Los siguientes datos de entrada se utilizan en el modelo:\n",
    "\n",
    "- $S$: conjunto de acciones\n",
    "- $\\mu$: vector de rendimientos esperados\n",
    "- $\\Sigma$: matriz de varianza-covarianza\n",
    "    - $\\sigma_{ij}$ covarianza entre los rendimientos de los activos $i$ y $j$\n",
    "    - $\\sigma_{ii}$ varianza del rendimiento del activo $i$"
   ]
  },
  {
   "cell_type": "code",
   "execution_count": 2,
   "id": "56b32be3",
   "metadata": {},
   "outputs": [],
   "source": [
    "# Importar datos\n",
    "Sigma = pd.read_pickle(\"sigma.pkl\")\n",
    "mu = pd.read_pickle(\"mu.pkl\")"
   ]
  },
  {
   "cell_type": "markdown",
   "id": "eb59b36e",
   "metadata": {},
   "source": [
    "## Formulación\n",
    "\n",
    "El modelo maximiza el rendimiento esperado total para un nivel fijo de varianza (riesgo) preespecificado. Matemáticamente, esto resulta en un problema de optimización convexa con restricciones cuadráticas.\n",
    "\n",
    "### Variables de Decisión y Cotas de las Variable\n",
    "\n",
    "Las variables de decisión en el modelo son las proporciones de capital invertidas entre las acciones consideradas. El vector correspondiente de posiciones se denota por $x$, donde su componente $x_i$ representa la proporción de capital invertido en la acción $i$.\n",
    "\n",
    "Ahora, la variable de posición no tiene cotas; modelando el apalancamiento y venta en corto.\n",
    "\n",
    "###  Restricciones\n",
    "La restricción presupuestaria garantiza que todo el capital esté invertido:\n",
    "\n",
    "$$\\sum_{i \\in S} x_i =1$$\n",
    "\n",
    "El riesgo estimado debe ser igual al nivel de varianza admisible preespecificado $\\bar\\sigma^2$:\n",
    "\n",
    "$$x^\\top \\Sigma x = \\bar\\sigma^2$$\n",
    "\n",
    "###  Función Objetivo\n",
    "El objetivo es maximizar el rendimiento esperado del portafolio:\n",
    "\n",
    "$$\\max_x \\mu^\\top x $$\n",
    "\n",
    "Usando gurobipy, esto se puede expresar de la siguiente manera:"
   ]
  },
  {
   "cell_type": "code",
   "execution_count": 78,
   "id": "1663761f",
   "metadata": {
    "scrolled": true
   },
   "outputs": [
    {
     "name": "stdout",
     "output_type": "stream",
     "text": [
      "Set parameter MIPGap to value 0.01\n",
      "Set parameter FeasibilityTol to value 1e-09\n",
      "Set parameter OptimalityTol to value 1e-09\n",
      "Set parameter NonConvex to value 2\n",
      "Set parameter TimeLimit to value 300\n"
     ]
    }
   ],
   "source": [
    "V = 40 # varianza máxima admisible (sigma^2)\n",
    "n_indices = 6\n",
    "\n",
    "# Crear un modelo de optimización vacío\n",
    "m = gp.Model()\n",
    "\n",
    "M = 1000 \n",
    "N = range(len(mu))\n",
    "\n",
    "epsilon = 1e-8\n",
    "\n",
    "# Agregar variables: x[i] denota la proporción invertida en la acción i\n",
    "x = m.addMVar(len(N), lb=-np.inf, ub=np.inf, name=\"x\")\n",
    "\n",
    "# Restricción presupuestaria: todas las inversiones suman 1\n",
    "m.addConstr(x.sum() == 1, name=\"Restriccion_Presupuesto\")\n",
    "\n",
    "# Restricción para fijar valor de z.\n",
    "z = m.addMVar(len(N), vtype=gp.GRB.BINARY, name=\"activo_binario\")\n",
    "abs_x = m.addMVar(len(N), vtype=gp.GRB.CONTINUOUS, name=\"abs_x\")\n",
    "\n",
    "m.addConstrs((abs_x[i] == gp.abs_(x[i]) for i in N), name='abs_x')\n",
    "m.addConstrs((abs_x[j] <= z[j]*M for j in N ), name=\"activo_binario_upper\")\n",
    "m.addConstrs((z[j]*epsilon <= abs_x[j]for j in N ), name=\"activo_binario_lower\")\n",
    "\n",
    "# Restricción de número de indices.\n",
    "m.addConstr(z.sum() <= n_indices, name=\"Restriccion_Presupuesto\")\n",
    "\n",
    "# Límite en la varianza\n",
    "restriccion_riesgo = m.addConstr(x @ Sigma.to_numpy() @ x <= V, name=\"restriccion_riesgo\")\n",
    "\n",
    "m.params.MIPGap = 0.01\n",
    "m.params.FeasibilityTol = 1e-9\n",
    "m.params.OptimalityTol = 1e-9\n",
    "m.params.NonConvex = 2\n",
    "\n",
    "# Definir la función objetivo: Maximizar el rendimiento esperado\n",
    "m.setObjective(mu.to_numpy() @ x, gp.GRB.MAXIMIZE)\n",
    "\n",
    "\n",
    "m.params.TimeLimit = 300  # Establece un límite de tiempo de 300 segundos (5 minutos)\n"
   ]
  },
  {
   "cell_type": "markdown",
   "id": "0d6f274d",
   "metadata": {},
   "source": [
    "Resolvemos:"
   ]
  },
  {
   "cell_type": "code",
   "execution_count": 79,
   "id": "e0c51922",
   "metadata": {},
   "outputs": [
    {
     "name": "stdout",
     "output_type": "stream",
     "text": [
      "Gurobi Optimizer version 10.0.3 build v10.0.3rc0 (mac64[arm])\n",
      "\n",
      "CPU model: Apple M1\n",
      "Thread count: 8 physical cores, 8 logical processors, using up to 8 threads\n",
      "\n",
      "Optimize a model with 22 rows, 30 columns and 60 nonzeros\n",
      "Model fingerprint: 0xed0dfdfe\n",
      "Model has 1 quadratic constraint\n",
      "Model has 10 general constraints\n",
      "Variable types: 20 continuous, 10 integer (10 binary)\n",
      "Coefficient statistics:\n",
      "  Matrix range     [1e-08, 1e+03]\n",
      "  QMatrix range    [1e+01, 4e+02]\n",
      "  Objective range  [4e-02, 3e+00]\n",
      "  Bounds range     [1e+00, 1e+00]\n",
      "  RHS range        [1e+00, 6e+00]\n",
      "  QRHS range       [4e+01, 4e+01]\n",
      "Presolve added 30 rows and 30 columns\n",
      "Presolve time: 0.02s\n",
      "Presolved: 52 rows, 60 columns, 140 nonzeros\n",
      "Presolved model has 1 quadratic constraint(s)\n",
      "Variable types: 40 continuous, 20 integer (20 binary)\n",
      "\n",
      "Root relaxation: objective 6.085024e+03, 41 iterations, 0.00 seconds (0.00 work units)\n",
      "\n",
      "    Nodes    |    Current Node    |     Objective Bounds      |     Work\n",
      " Expl Unexpl |  Obj  Depth IntInf | Incumbent    BestBd   Gap | It/Node Time\n",
      "\n",
      "     0     0 6085.02422    0    2          - 6085.02422      -     -    0s\n",
      "     0     0 2103.10065    0    3          - 2103.10065      -     -    0s\n",
      "     0     0 1021.88518    0    5          - 1021.88518      -     -    0s\n",
      "     0     0  621.62712    0    5          -  621.62712      -     -    0s\n",
      "     0     0  367.88184    0    6          -  367.88184      -     -    0s\n",
      "     0     0  128.72541    0    7          -  128.72541      -     -    0s\n",
      "     0     0   39.27908    0    8          -   39.27908      -     -    0s\n",
      "     0     0    4.85517    0    9          -    4.85517      -     -    0s\n",
      "     0     0    4.84579    0    9          -    4.84579      -     -    0s\n",
      "     0     0    3.73694    0    7          -    3.73694      -     -    0s\n",
      "     0     0    3.73315    0    8          -    3.73315      -     -    0s\n",
      "     0     0    3.73261    0    9          -    3.73261      -     -    0s\n",
      "     0     0    3.66840    0    8          -    3.66840      -     -    0s\n",
      "     0     0    3.54785    0    9          -    3.54785      -     -    0s\n",
      "     0     0    3.35459    0    9          -    3.35459      -     -    0s\n",
      "     0     0    3.16618    0    7          -    3.16618      -     -    0s\n",
      "     0     0    3.10312    0    9          -    3.10312      -     -    0s\n",
      "     0     0    3.06035    0    8          -    3.06035      -     -    0s\n",
      "     0     0    2.94083    0    7          -    2.94083      -     -    0s\n",
      "     0     0    2.81828    0    6          -    2.81828      -     -    0s\n",
      "     0     0    2.73445    0    8          -    2.73445      -     -    0s\n",
      "     0     0    2.71380    0    8          -    2.71380      -     -    0s\n",
      "     0     0    2.53565    0    7          -    2.53565      -     -    0s\n",
      "     0     0    2.52476    0    8          -    2.52476      -     -    0s\n",
      "     0     0    2.48167    0    9          -    2.48167      -     -    0s\n",
      "     0     0    2.47386    0    7          -    2.47386      -     -    0s\n",
      "     0     0    2.41718    0    8          -    2.41718      -     -    0s\n",
      "     0     0    2.39960    0    7          -    2.39960      -     -    0s\n",
      "     0     0    2.36756    0    7          -    2.36756      -     -    0s\n",
      "     0     0    2.34249    0    7          -    2.34249      -     -    0s\n",
      "     0     0    2.33547    0    8          -    2.33547      -     -    0s\n",
      "     0     0    2.33369    0    9          -    2.33369      -     -    0s\n",
      "     0     0    2.33259    0    8          -    2.33259      -     -    0s\n",
      "     0     0    2.30613    0    9          -    2.30613      -     -    0s\n",
      "     0     0    2.23056    0    9          -    2.23056      -     -    0s\n",
      "     0     0    2.20275    0    8          -    2.20275      -     -    0s\n",
      "     0     0    2.17196    0    8          -    2.17196      -     -    0s\n",
      "     0     0    2.14578    0    9          -    2.14578      -     -    0s\n",
      "     0     0    2.13099    0    9          -    2.13099      -     -    0s\n",
      "     0     0    2.11387    0    7          -    2.11387      -     -    0s\n",
      "     0     0    2.08169    0    8          -    2.08169      -     -    0s\n",
      "     0     0    2.07377    0    7          -    2.07377      -     -    0s\n",
      "     0     0    2.07251    0    8          -    2.07251      -     -    0s\n",
      "     0     0    2.05943    0    8          -    2.05943      -     -    0s\n",
      "     0     0    2.05582    0    9          -    2.05582      -     -    0s\n",
      "     0     0    2.04818    0    9          -    2.04818      -     -    0s\n",
      "     0     0    2.04660    0    7          -    2.04660      -     -    0s\n",
      "     0     0    2.04198    0    7          -    2.04198      -     -    0s\n",
      "     0     0    2.03968    0    9          -    2.03968      -     -    0s\n",
      "     0     0    2.03759    0    8          -    2.03759      -     -    0s\n",
      "     0     0    2.02846    0    8          -    2.02846      -     -    0s\n",
      "     0     0    2.02641    0    7          -    2.02641      -     -    0s\n",
      "     0     0    2.02492    0    9          -    2.02492      -     -    0s\n",
      "     0     0    2.02492    0    9          -    2.02492      -     -    0s\n",
      "H    0     0                       1.8327132    2.02492  10.5%     -    0s\n",
      "     0     2    2.02445    0    9    1.83271    2.02445  10.5%     -    0s\n",
      "H    5     8                       1.8697332    2.02445  8.27%   6.0    0s\n",
      "\n",
      "Cutting planes:\n",
      "  MIR: 2\n",
      "  Flow cover: 2\n",
      "\n",
      "Explored 243 nodes (1934 simplex iterations) in 0.17 seconds (0.03 work units)\n",
      "Thread count was 8 (of 8 available processors)\n",
      "\n",
      "Solution count 2: 1.86973 1.83271 \n",
      "\n",
      "Optimal solution found (tolerance 1.00e-02)\n",
      "Warning: max constraint violation (8.2530e-09) exceeds tolerance\n",
      "Warning: max general constraint violation (8.2530e-09) exceeds tolerance\n",
      "Best objective 1.869733159090e+00, best bound 1.879984721371e+00, gap 0.5483%\n"
     ]
    }
   ],
   "source": [
    "m.optimize() "
   ]
  },
  {
   "cell_type": "markdown",
   "id": "c781a2be",
   "metadata": {},
   "source": [
    "Mostrar los datos básicos de la solución:"
   ]
  },
  {
   "cell_type": "code",
   "execution_count": 80,
   "id": "629b52ad",
   "metadata": {},
   "outputs": [
    {
     "name": "stdout",
     "output_type": "stream",
     "text": [
      "Varianza:         39.999984\n",
      "Tiempo de solución:    0.17 segundos\n",
      "\n",
      "Número de transacciones positivas: 5\n",
      "\n",
      "BCI Cierre Ix      0.426896\n",
      "CCU Cierre Ix      0.126385\n",
      "CMPC Cierre Ix     0.225272\n",
      "IANSA Cierre Ix    0.112388\n",
      "ZOFRI Cierre Ix    0.507912\n",
      "Name: Posición, dtype: float64\n",
      "\n",
      "Número de transacciones negativas: 1\n",
      "\n",
      "SOCOVESA Cierre Ix   -0.398854\n",
      "Name: Posición, dtype: float64\n"
     ]
    }
   ],
   "source": [
    "print(f\"Varianza:         {x.X @ Sigma @ x.X:.6f}\")\n",
    "print(f\"Tiempo de solución:    {m.Runtime:.2f} segundos\\n\")\n",
    "\n",
    "# Imprimir inversiones (con valores no despreciables, es decir, > 1e-5)\n",
    "positions = pd.Series(name=\"Posición\", data=x.X, index=mu.index)\n",
    "print(f\"Número de transacciones positivas: {positions[positions > 1e-8].count()}\\n\")\n",
    "print(positions[positions > 0])\n",
    "print(f\"\\nNúmero de transacciones negativas: {positions[positions < -1e-8].count()}\\n\")\n",
    "print(positions[positions < 0])"
   ]
  },
  {
   "cell_type": "code",
   "execution_count": 81,
   "id": "5f1c628f",
   "metadata": {},
   "outputs": [],
   "source": [
    "df = pd.DataFrame(\n",
    "    index=mu.index,\n",
    "    data={\n",
    "        \"x\": x.X,\n",
    "    },\n",
    ").round(6)"
   ]
  },
  {
   "cell_type": "code",
   "execution_count": 82,
   "id": "3360fe73",
   "metadata": {},
   "outputs": [
    {
     "data": {
      "image/png": "[encoded data removed]",
      "text/plain": [
       "<Figure size 640x480 with 1 Axes>"
      ]
     },
     "metadata": {},
     "output_type": "display_data"
    }
   ],
   "source": [
    "# adjust RHS of short constraint\n",
    "x.lb = 0\n",
    "x.ub = 1\n",
    "m.params.OutputFlag = 0\n",
    "m.optimize()\n",
    "\n",
    "# retrieve and display solution data\n",
    "mask = (abs(df[\"x\"]) > 1e-8) | (x.X > 1e-8)\n",
    "df2 = pd.DataFrame(\n",
    "    index=df[\"x\"][mask].index,\n",
    "    data={\n",
    "        \"Inversión con Apalancamiento\": df[\"x\"],\n",
    "        \"Inversión sin Apalancamiento\": x.X[mask],\n",
    "    },\n",
    ").sort_values(by=[\"Inversión con Apalancamiento\"], ascending=True)\n",
    "\n",
    "axs = df2.plot.barh()\n",
    "axs.set_xlabel(\"Fracción de la suma de inversiones\")\n",
    "plt.title(\"Portafolios de Mínima Varianza con y sin apalancamiento\")\n",
    "plt.show()"
   ]
  }
 ],
 "metadata": {
  "kernelspec": {
   "display_name": "Python 3",
   "language": "python",
   "name": "python3"
  },
  "language_info": {
   "codemirror_mode": {
    "name": "ipython",
    "version": 3
   },
   "file_extension": ".py",
   "mimetype": "text/x-python",
   "name": "python",
   "nbconvert_exporter": "python",
   "pygments_lexer": "ipython3",
   "version": "3.10.15"
  }
 },
 "nbformat": 4,
 "nbformat_minor": 5
}
